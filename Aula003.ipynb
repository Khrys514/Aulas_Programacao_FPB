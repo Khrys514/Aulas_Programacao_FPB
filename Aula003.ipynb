{
  "nbformat": 4,
  "nbformat_minor": 0,
  "metadata": {
    "colab": {
      "provenance": [],
      "authorship_tag": "ABX9TyNdRZkDys2rJIzEEaBASyME",
      "include_colab_link": true
    },
    "kernelspec": {
      "name": "python3",
      "display_name": "Python 3"
    },
    "language_info": {
      "name": "python"
    }
  },
  "cells": [
    {
      "cell_type": "markdown",
      "metadata": {
        "id": "view-in-github",
        "colab_type": "text"
      },
      "source": [
        "<a href=\"https://colab.research.google.com/github/Khrys514/Aulas_Programacao_FPB/blob/main/Aula003.ipynb\" target=\"_parent\"><img src=\"https://colab.research.google.com/assets/colab-badge.svg\" alt=\"Open In Colab\"/></a>"
      ]
    },
    {
      "cell_type": "code",
      "execution_count": null,
      "metadata": {
        "id": "MkvbU1-ThZdK"
      },
      "outputs": [],
      "source": [
        "idade = 20\n",
        "\n",
        "print('Olá Mundo', idade)"
      ]
    },
    {
      "cell_type": "code",
      "source": [
        "a = 97\n",
        "b = 46\n",
        "\n",
        "print(a+b)\n",
        "print(a-b)\n",
        "print(a*b)\n",
        "print(a/b)\n",
        "print(a%b) #O Resto da operação"
      ],
      "metadata": {
        "id": "b-0Z3NVelhVU"
      },
      "execution_count": null,
      "outputs": []
    },
    {
      "cell_type": "code",
      "source": [
        "anonasc = int(input('Digite o seu ano de nascimento por favor: '))\n",
        "print('Sua Idade é: ',2023-anonasc)"
      ],
      "metadata": {
        "id": "RaHXvJ5jmSfT"
      },
      "execution_count": null,
      "outputs": []
    },
    {
      "cell_type": "code",
      "source": [
        "#Calculamento de IMC obtendo peso e altura - IMC = peso / altura**2\n",
        "\n",
        "altura = float(input('Informe sua altura em metros: '))\n",
        "peso = float(input('Informe seu peso em KG: '))\n",
        "IMC = peso / altura**2\n",
        "print('Seu IMC é: ', round(IMC,2))\n",
        "if(IMC < 18.4):\n",
        "  print('Você está abaixo do peso.')\n",
        "elif(IMC < 24.9):\n",
        "  print('Você está no peso ideal.')\n",
        "elif(IMC < 29.9):\n",
        "  print('Você está acima do peso')\n",
        "elif(IMC < 35.1):\n",
        "  print('Você está com Obesidade Classe 1')\n",
        "elif(IMC < 39.9):\n",
        "  print('Você está com Obesidade Classe 2')\n",
        "else:\n",
        "  print('Você está com Obesidade Classe 3')"
      ],
      "metadata": {
        "id": "jvr8D8Hpow_I"
      },
      "execution_count": null,
      "outputs": []
    },
    {
      "cell_type": "code",
      "source": [
        "#Verificar seu um número é par\n",
        "num = int(input('Digite um número: '))\n",
        "if (num%2 == 0):\n",
        "  print('O número é par.')\n",
        "else:\n",
        "  print('O número é impar')"
      ],
      "metadata": {
        "id": "GhDsaKwMvqWs"
      },
      "execution_count": null,
      "outputs": []
    },
    {
      "cell_type": "code",
      "source": [
        "#Em um campeonato de MMA, tem três categorias por peso\n",
        "#galo até 70kg\n",
        "#medio até 80kg\n",
        "#pesado até 90kg\n",
        "peso = float(input('Digite o peso do atleta: '))\n",
        "if(peso <=70):\n",
        "  print('Peso Galo')\n",
        "elif(peso <=80):\n",
        "  print('Peso Médio')\n",
        "else:\n",
        "  print('Peso Pesado')"
      ],
      "metadata": {
        "id": "EWMr2vt3ypiA"
      },
      "execution_count": null,
      "outputs": []
    }
  ]
}