{
  "nbformat": 4,
  "nbformat_minor": 0,
  "metadata": {
    "colab": {
      "provenance": [],
      "collapsed_sections": [
        "1qyAIuVKxf5J",
        "FHM7uecT2tpp"
      ],
      "include_colab_link": true
    },
    "kernelspec": {
      "name": "python3",
      "display_name": "Python 3"
    },
    "language_info": {
      "name": "python"
    }
  },
  "cells": [
    {
      "cell_type": "markdown",
      "metadata": {
        "id": "view-in-github",
        "colab_type": "text"
      },
      "source": [
        "<a href=\"https://colab.research.google.com/github/Khrys514/Aulas_Programacao_FPB/blob/main/Aula_004_Listas_e_La%C3%A7os.ipynb\" target=\"_parent\"><img src=\"https://colab.research.google.com/assets/colab-badge.svg\" alt=\"Open In Colab\"/></a>"
      ]
    },
    {
      "cell_type": "markdown",
      "source": [
        "# Listas"
      ],
      "metadata": {
        "id": "C6IfPVrWyScY"
      }
    },
    {
      "cell_type": "code",
      "source": [
        "#Listas são estruturas de dados formadas por elementos de um mesmo tipo\n",
        "#listas em python são semelhantes a arrays em outras linguagens> mas têm diferenças\n",
        "num = [25, 4, 3, 6, 9]"
      ],
      "metadata": {
        "id": "TypIylFnoAkl"
      },
      "execution_count": null,
      "outputs": []
    },
    {
      "cell_type": "code",
      "source": [
        "#tamanho de uma lista\n",
        "len(num)"
      ],
      "metadata": {
        "colab": {
          "base_uri": "https://localhost:8080/"
        },
        "id": "YIN0E22joAuK",
        "outputId": "a3d03e1a-82dd-4d13-e53b-f93199151766"
      },
      "execution_count": null,
      "outputs": [
        {
          "output_type": "execute_result",
          "data": {
            "text/plain": [
              "5"
            ]
          },
          "metadata": {},
          "execution_count": 7
        }
      ]
    },
    {
      "cell_type": "code",
      "source": [
        "#A estrutura de dados Lista em python aceita que você faça coleções com tipos de dados diferentes.\n",
        "objetos = ['faca', 'tesoura', 'chave', 3]\n",
        "objetos"
      ],
      "metadata": {
        "id": "AwqkOAt5CRil"
      },
      "execution_count": null,
      "outputs": []
    },
    {
      "cell_type": "code",
      "source": [
        "#A ordenação das listas têm índice que inicia em 0, e vai até o tamanho da lista menos 1\n",
        "print(num[0]) #Primeiro ítem da lista\n",
        "print(num[1])\n",
        "print(num[2])\n",
        "print(num[3])\n",
        "print(num[4])\n",
        "print(num[5]) #Fora do índice"
      ],
      "metadata": {
        "id": "qblM7OsgoArL"
      },
      "execution_count": null,
      "outputs": []
    },
    {
      "cell_type": "code",
      "source": [
        "#listas de outros tipos\n",
        "alunos = ['Mariana', 'Luiz', 'Higor', 'Enzo', 'Valentina']"
      ],
      "metadata": {
        "id": "g7r_7nZZpMA_"
      },
      "execution_count": null,
      "outputs": []
    },
    {
      "cell_type": "code",
      "source": [
        "#alterar o valores de ítens de lista\n",
        "alunos[3] = 'Ivan'\n",
        "alunos"
      ],
      "metadata": {
        "id": "ADe8qqc6nnSv",
        "colab": {
          "base_uri": "https://localhost:8080/"
        },
        "outputId": "797bdf38-9720-42b3-a538-c6190f3c3615"
      },
      "execution_count": null,
      "outputs": [
        {
          "output_type": "execute_result",
          "data": {
            "text/plain": [
              "['Mariana', 'Luiz', 'Higor', 'Ivan', 'Valentina']"
            ]
          },
          "metadata": {},
          "execution_count": 15
        }
      ]
    },
    {
      "cell_type": "code",
      "source": [
        "#inserir valores na lista .append()\n",
        "alunos.append('Alex')\n",
        "alunos"
      ],
      "metadata": {
        "id": "bDjrZAe5n7hn",
        "colab": {
          "base_uri": "https://localhost:8080/"
        },
        "outputId": "c4b34109-2f2a-41f0-c317-2be548411321"
      },
      "execution_count": null,
      "outputs": [
        {
          "output_type": "execute_result",
          "data": {
            "text/plain": [
              "['Mariana', 'Luiz', 'Higor', 'Ivan', 'Valentina', 'Alex']"
            ]
          },
          "metadata": {},
          "execution_count": 16
        }
      ]
    },
    {
      "cell_type": "code",
      "source": [
        "alunos.append(input('Digite o nome: '))"
      ],
      "metadata": {
        "id": "8okPJZquF6fR",
        "colab": {
          "base_uri": "https://localhost:8080/"
        },
        "outputId": "4eef4670-01d8-458b-deba-f9ad2011f382"
      },
      "execution_count": null,
      "outputs": [
        {
          "name": "stdout",
          "output_type": "stream",
          "text": [
            "Digite o nome: Aderbal\n"
          ]
        }
      ]
    },
    {
      "cell_type": "code",
      "source": [
        "alunos"
      ],
      "metadata": {
        "id": "bidLoKy4GKE1",
        "colab": {
          "base_uri": "https://localhost:8080/"
        },
        "outputId": "4a2f0059-ff23-478e-97c6-cda02b3a4662"
      },
      "execution_count": null,
      "outputs": [
        {
          "output_type": "execute_result",
          "data": {
            "text/plain": [
              "['Mariana', 'Luiz', 'Higor', 'Ivan', 'Valentina', 'Alex', 'Aderbal']"
            ]
          },
          "metadata": {},
          "execution_count": 18
        }
      ]
    },
    {
      "cell_type": "code",
      "source": [
        "#Descobrir se há um valor determinado na lista, exibir sua posição na lista\n",
        "if 'Luiz' in alunos:\n",
        "  print('Tem luiz SIIM')\n",
        "else:\n",
        "  print('Não tem Luiz')"
      ],
      "metadata": {
        "id": "nJDduZtfoKUu",
        "colab": {
          "base_uri": "https://localhost:8080/"
        },
        "outputId": "fb63afd7-7193-42f0-fa9b-5a438f3c2077"
      },
      "execution_count": null,
      "outputs": [
        {
          "output_type": "stream",
          "name": "stdout",
          "text": [
            "Tem luiz SIIM\n"
          ]
        }
      ]
    },
    {
      "cell_type": "code",
      "source": [
        "nome = input('Digite o nome: ')\n",
        "if nome in alunos:\n",
        "  print('Tem ', nome)\n",
        "else:\n",
        "  print('Não tem ', nome)"
      ],
      "metadata": {
        "id": "9NWVntkUPv0C",
        "colab": {
          "base_uri": "https://localhost:8080/"
        },
        "outputId": "29962714-ea30-433c-d1d9-5da9da268776"
      },
      "execution_count": null,
      "outputs": [
        {
          "output_type": "stream",
          "name": "stdout",
          "text": [
            "Digite o nome: Juliana\n",
            "Não tem  Juliana\n"
          ]
        }
      ]
    },
    {
      "cell_type": "code",
      "source": [
        "objetos = ['faca', 'tesoura', 'chave', 3, 'Abacate', 'Livro', 'Boné']\n",
        "objetos.pop(2)\n",
        "\n",
        "objetos"
      ],
      "metadata": {
        "colab": {
          "base_uri": "https://localhost:8080/"
        },
        "id": "NsOe0LvfuOqe",
        "outputId": "4def7a11-9b5e-4d53-8926-ef095f74dc09"
      },
      "execution_count": null,
      "outputs": [
        {
          "output_type": "execute_result",
          "data": {
            "text/plain": [
              "['faca', 'tesoura', 3, 'Abacate', 'Livro', 'Boné']"
            ]
          },
          "metadata": {},
          "execution_count": 25
        }
      ]
    },
    {
      "cell_type": "code",
      "source": [
        "#deletar um item específico da lista de compras\n",
        "del alunos[0]"
      ],
      "metadata": {
        "id": "kX_uAk5Jop_Y"
      },
      "execution_count": null,
      "outputs": []
    },
    {
      "cell_type": "code",
      "source": [],
      "metadata": {
        "id": "fbffw09ms-GW"
      },
      "execution_count": null,
      "outputs": []
    },
    {
      "cell_type": "markdown",
      "source": [
        "Exercícios. \n",
        "1. Crie uma lista contendo 5 atores ou atrizes\n",
        "2. Faça uma busca nessa lista, e verifique se há um determinado nome na lista. Notifique se há ou não o nome na lista\n",
        "3. Modifique o código criado no item anterior, para que, além de verificar se há o nome na lista, deletar o registro do nome digitado."
      ],
      "metadata": {
        "id": "XNj0dT0SpCXb"
      }
    },
    {
      "cell_type": "markdown",
      "source": [
        "#Laço for"
      ],
      "metadata": {
        "id": "1qyAIuVKxf5J"
      }
    },
    {
      "cell_type": "code",
      "source": [
        "objetos = ['faca', 'tesoura', 'chave', 'Livro', 'caneta', 'copo']\n"
      ],
      "metadata": {
        "id": "9zF4Y44gS5_U"
      },
      "execution_count": null,
      "outputs": []
    },
    {
      "cell_type": "code",
      "source": [
        "#Laço FOR \n",
        "for obj in objetos:\n",
        "  print(obj)"
      ],
      "metadata": {
        "id": "Ra-lTrfAvHk-"
      },
      "execution_count": null,
      "outputs": []
    },
    {
      "cell_type": "code",
      "source": [
        "#Crie uma lista com 5 números em sequência.\n",
        "nums = [1, 2, 3, 4, 5]\n",
        "#Crie uma lista com os 300 primeiros números"
      ],
      "metadata": {
        "id": "tN3NFlRCvxw_"
      },
      "execution_count": null,
      "outputs": []
    },
    {
      "cell_type": "code",
      "source": [
        "#Criar uma lista com números de 1 a 15\n",
        "numeros = []\n",
        "for num in range(15):\n",
        "  numeros.append(num)\n",
        "\n",
        "numeros"
      ],
      "metadata": {
        "id": "T0Mu0NK7vQ_R",
        "colab": {
          "base_uri": "https://localhost:8080/"
        },
        "outputId": "8880d18f-888d-442b-dabb-e06e15482db1"
      },
      "execution_count": null,
      "outputs": [
        {
          "output_type": "execute_result",
          "data": {
            "text/plain": [
              "[0, 1, 2, 3, 4, 5, 6, 7, 8, 9, 10, 11, 12, 13, 14]"
            ]
          },
          "metadata": {},
          "execution_count": 58
        }
      ]
    },
    {
      "cell_type": "code",
      "source": [
        "#Para usar a bibliotecar Random, é preciso importá-la\n",
        "import random\n",
        "\n",
        "#Criar uma lista com tamanho aleatório (entre 0 e 50)\n",
        "nums2 = []\n",
        "for num in range(random.randrange(0, 50)):\n",
        "  nums2.append(num)\n",
        "\n",
        "nums2"
      ],
      "metadata": {
        "colab": {
          "base_uri": "https://localhost:8080/"
        },
        "id": "eVPwTQpxx9Lj",
        "outputId": "5a91434a-fd84-4c48-deaa-c546a1d67289"
      },
      "execution_count": null,
      "outputs": [
        {
          "output_type": "execute_result",
          "data": {
            "text/plain": [
              "[0, 1, 2]"
            ]
          },
          "metadata": {},
          "execution_count": 50
        }
      ]
    },
    {
      "cell_type": "code",
      "source": [
        "#Um número será múltiplo de outro, quando o resto da divisão entre eles for 0\n"
      ],
      "metadata": {
        "colab": {
          "base_uri": "https://localhost:8080/"
        },
        "id": "zGOy4zXH0JXH",
        "outputId": "0252c08f-e54b-4ffc-bd63-b3bb11be3739"
      },
      "execution_count": null,
      "outputs": [
        {
          "output_type": "execute_result",
          "data": {
            "text/plain": [
              "2"
            ]
          },
          "metadata": {},
          "execution_count": 56
        }
      ]
    },
    {
      "cell_type": "code",
      "source": [
        "#(Parentesis)Descobrir se um número é par\n",
        "a = 8\n",
        "if a%2 == 0:\n",
        "  print('É par')\n",
        "else:\n",
        "  print('É impar')"
      ],
      "metadata": {
        "id": "7MKrVTLgWhA7",
        "colab": {
          "base_uri": "https://localhost:8080/"
        },
        "outputId": "a9bf4919-7e20-4349-967b-a30261c269d4"
      },
      "execution_count": null,
      "outputs": [
        {
          "output_type": "stream",
          "name": "stdout",
          "text": [
            "É par\n"
          ]
        }
      ]
    },
    {
      "cell_type": "code",
      "source": [
        "3%2"
      ],
      "metadata": {
        "id": "e7Z64bjg1qtc"
      },
      "execution_count": null,
      "outputs": []
    },
    {
      "cell_type": "code",
      "source": [
        "#printar apenas os números pares.\n",
        "#[0, 1, 2, 3, 4, 5, 6, 7, 8, 9, 10, 11, 12, 13, 14]\n",
        "for num in numeros:\n",
        "  if num%2 == 0:\n",
        "    print(num)"
      ],
      "metadata": {
        "id": "DglKKmcSYyF8"
      },
      "execution_count": null,
      "outputs": []
    },
    {
      "cell_type": "code",
      "source": [
        "macacos = ['chimpanze', 'bugio', 'mico-leao']\n",
        "macacos.append('Gorila')\n",
        "\n",
        "macacos"
      ],
      "metadata": {
        "colab": {
          "base_uri": "https://localhost:8080/"
        },
        "id": "oxYcQuOK19Wp",
        "outputId": "f7a93d0a-410e-46a2-d55b-4ae40749b59d"
      },
      "execution_count": null,
      "outputs": [
        {
          "output_type": "execute_result",
          "data": {
            "text/plain": [
              "['chimpanze', 'bugio', 'mico-leao', 'Gorila']"
            ]
          },
          "metadata": {},
          "execution_count": 66
        }
      ]
    },
    {
      "cell_type": "code",
      "source": [],
      "metadata": {
        "id": "7AwU427g2T81"
      },
      "execution_count": null,
      "outputs": []
    },
    {
      "cell_type": "code",
      "source": [
        "#criar uma nova lista chamada dobro\n",
        "#Dobro recebe os elementos da lista numeros, cada um multiplicado por 2\n",
        "dobro = []\n",
        "for num in numeros:\n",
        "  dobro.append(num * 2) \n",
        "dobro"
      ],
      "metadata": {
        "id": "WdYmg7FCwGJ6"
      },
      "execution_count": null,
      "outputs": []
    },
    {
      "cell_type": "code",
      "source": [
        "#[0, 1, 2, 3, 4, 5, 6, 7, 8, 9, 10, 11, 12, 13, 14]\n",
        "#Criar lista chamada triplo\n",
        "triplo = []\n",
        "for num in numeros:\n",
        "  triplo.append(num*3)\n",
        "\n",
        "triplo"
      ],
      "metadata": {
        "colab": {
          "base_uri": "https://localhost:8080/"
        },
        "id": "YsayLiKU1XLY",
        "outputId": "23384ca1-1da1-47f0-a4b2-10432874d767"
      },
      "execution_count": null,
      "outputs": [
        {
          "output_type": "execute_result",
          "data": {
            "text/plain": [
              "[0, 3, 6, 9, 12, 15, 18, 21, 24, 27, 30, 33, 36, 39, 42]"
            ]
          },
          "metadata": {},
          "execution_count": 67
        }
      ]
    },
    {
      "cell_type": "code",
      "source": [
        "#Exercicio\n",
        "## Crie uma lista chamada notas, que receba 5 notas de alunos de uma turma"
      ],
      "metadata": {
        "id": "lzA45aiewypn"
      },
      "execution_count": null,
      "outputs": []
    },
    {
      "cell_type": "code",
      "source": [
        "notas = []\n",
        "for num in range(5):\n",
        "  nota = int(input('Digite a nota'))\n",
        "  notas.append(nota)\n",
        "notas"
      ],
      "metadata": {
        "id": "pCjt4FV23GGm"
      },
      "execution_count": null,
      "outputs": []
    },
    {
      "cell_type": "code",
      "source": [
        "jogos = ['Mario', 'Sonic', 'God of War', 'The Last of Us', 'Tetris']"
      ],
      "metadata": {
        "id": "sQ7oCfNItfW0"
      },
      "execution_count": null,
      "outputs": []
    },
    {
      "cell_type": "code",
      "source": [
        "#imprimir os elementos de uma lista\n",
        "for jogo in jogos:\n",
        "  print(jogo)\n"
      ],
      "metadata": {
        "id": "4aKJucNzuvF2"
      },
      "execution_count": null,
      "outputs": []
    },
    {
      "cell_type": "code",
      "source": [
        "# crie um código que insere novos títulos a lista jogos\n",
        "jogos.append(input('Digite o jogo'))\n",
        "\n",
        "jogos"
      ],
      "metadata": {
        "id": "Cr__PsZWE2ax"
      },
      "execution_count": null,
      "outputs": []
    },
    {
      "cell_type": "markdown",
      "source": [
        "#Laço While"
      ],
      "metadata": {
        "id": "FHM7uecT2tpp"
      }
    },
    {
      "cell_type": "code",
      "source": [
        "#Criar um programa que lista os números de 1 a 10\n",
        "##Precisamos de um contador!\n",
        "cont = 0\n",
        "\n",
        "while (cont < 10):\n",
        "  print(cont +1)\n",
        "  cont+=1"
      ],
      "metadata": {
        "id": "yOyiQ_2rtsK9"
      },
      "execution_count": null,
      "outputs": []
    },
    {
      "cell_type": "code",
      "source": [
        "#Pede ao usuário para inserir um número inteiro maior que 1\n",
        "#O programa deve imprimir todos os números até o número digitado.\n",
        "cont = 0\n",
        "num = int(input('insira um número '))\n",
        "while (cont <= num):\n",
        "  print(cont)\n",
        "  cont+=1"
      ],
      "metadata": {
        "id": "cDkznQIP4Caq"
      },
      "execution_count": null,
      "outputs": []
    },
    {
      "cell_type": "code",
      "source": [
        "#Modifique o código anterior para que imprima apenas os números pares do intervalo"
      ],
      "metadata": {
        "id": "oAVTJ2dB46yf"
      },
      "execution_count": null,
      "outputs": []
    },
    {
      "cell_type": "code",
      "source": [
        "#Retorna a soma de todos os números entre 1 e 100"
      ],
      "metadata": {
        "id": "J6EerHuW4fpd"
      },
      "execution_count": null,
      "outputs": []
    },
    {
      "cell_type": "code",
      "source": [
        "#Pede a senha do usuário. E dá 5 chances para o usuário inserir a senha correta."
      ],
      "metadata": {
        "id": "DeEWIdAm5FQJ"
      },
      "execution_count": null,
      "outputs": []
    },
    {
      "cell_type": "code",
      "source": [
        "#Altere o código anterior e insira o seguinte critério:\n",
        "#Caso terminem as 5 chances de inserir a senha, o programa deve informar \"tentativas excedidas!\""
      ],
      "metadata": {
        "id": "8GZ4XcJP5O9H"
      },
      "execution_count": null,
      "outputs": []
    },
    {
      "cell_type": "code",
      "source": [
        "#Testar a entrada do usuário\n",
        "#isdigit() Verificar se o que foi digitado é um número ou não\n",
        "num = input('digite um número')\n",
        "num.isdigit()"
      ],
      "metadata": {
        "id": "kmst7Y8rOVMc"
      },
      "execution_count": null,
      "outputs": []
    },
    {
      "cell_type": "code",
      "source": [
        "#Solicitar que o usuário digite um nome. Caso ele digite um número, avise \"Entrada incorreta!\"\n",
        "\n",
        "nome = input('Digite o nome! ')\n",
        "if(nome.isdigit()):\n",
        "  print('Entrada incorreta!')\n",
        "else:\n",
        "  print(f'o nome {nome} foi inserido com sucesso')"
      ],
      "metadata": {
        "id": "Q6eZLC7SPVn6"
      },
      "execution_count": null,
      "outputs": []
    },
    {
      "cell_type": "code",
      "source": [
        "#Solicitar que o usuário digite nomes de animais que serão inseridos em uma lista 'animais'.\n",
        "#O programa encerra quando um número for digitado. \n",
        "#ao final, exibe-se na tela a lista de animais.\n",
        "animais = []\n",
        "animal = input('Digite um nome de animal: ')\n",
        "\n",
        "while (animal.isdigit() == False):\n",
        "  animais.append(animal)\n",
        "  animal = input('Digite um nome de animal: ')\n",
        "\n",
        "animais"
      ],
      "metadata": {
        "id": "hifVOV77Qads"
      },
      "execution_count": null,
      "outputs": []
    },
    {
      "cell_type": "code",
      "source": [
        "#Solicitar que o usuário digite nomes de cidades e as armazene em uma lista. \n",
        "#O programa termina caso o usuário digite \"fim\"\n"
      ],
      "metadata": {
        "id": "XtKMs4NFTt_a"
      },
      "execution_count": null,
      "outputs": []
    },
    {
      "cell_type": "markdown",
      "source": [
        "#Lista de exercícios\n",
        "1. Escrever um algoritmo que lista todos os números ímpares que são múltiplos de três e que se encontram no conjunto dos números de 1 até 100.\n",
        "2. Escrever um algoritmo parecido com o anterior, mas que soma todos os múltiplos de 5 de 1 até 500.\n",
        "3. Crie um algoritmo que, dado um número informado pelo usuário, imprima a tabuada dele de 1 a 10. Use o formato de apresentação (considerando que o usuário informou o número 3):\n",
        "    - 3 x 1 = 3\n",
        "    - 3 x 2 = 6\n",
        "    - ...\n",
        "4. Desenvolva um programa que, lê o peso de 10 pessoas. Depois, calcula e mostra:\n",
        "  - O maior peso\n",
        "  - O menor peso\n",
        "5. Faça um programa que leia um número não determinado de valores. Depois, calcule e retorne na tela: \n",
        "  - A média aritmética de todos os números\n",
        "  - A quantidade de valores positivos\n",
        "  - A quantidade de valores negativos\n",
        "    * A condição de parada do laço é se o usuário digitar um caracter ou string.\n",
        "6. Escreva um algoritmo que lê uma quantidade desconhecida de números e contabilize quantos estão nos intervalos a seguir: [1-25], [26-50], [51-75], [76-100]. O input de dados deve parar quando for digitado o número 0.\n",
        "7. Faça um algoritmo que escreve os números ímpares entre 50 e 150\n",
        "8. Faça um algoritmo que permita ao usuário informar a idade de quantas pessoas ele desejar (para quando ele digitar um caractere ou string). Após isso o algoritmo deve informar a soma das pessoas maiores de idade e a média de idade das pessoas maiores de idade informadas.\n",
        "9. A sequência de Fibonacci é uma sucessão de números que, aparece em muitos fenômenos da natureza. Descrita no final do século 12 pelo italiano Leonardo Fibonacci, ela é infinita e começa com 0 e 1. Os números seguintes são sempre a soma dos dois números anteriores. Assim a sequência fica: {0, 1, 1, 2, 3, 5, 8, 13, 21, 34…}”. escreva um algoritmo que imprima na tela os n primeiros elementos da sequência de Fibonacci, onde n é informado pelo usuário."
      ],
      "metadata": {
        "id": "s2rr0qrNKtuv"
      }
    },
    {
      "cell_type": "code",
      "source": [
        "#Jogo adivinhe o número\n",
        "#Desenvolva um jogo de adivinhação que siga as seguintes regras:\n",
        "#1 - O jogo gera, aleatoriamente, um número secreto do tipo inteiro entre 0 e 100\n",
        "#2 - Solicita ao usuário que tente adivinhar o número entre 0 e 100.\n",
        "#3 - Um laço verifica se o número digitado é igual ao número secreto\n",
        "#4 - Se o número digitado for menor que o número secreto, o valor mínimo passa a ser o número digitado\n",
        "#5 - Se o número digitado for maior que o número secreto, o valor máximo passa a ser o número digitado\n",
        "#6 - se o jogador acertar, recebe uma mensagem de parabéns e o número de tentativas que foi necessária.\n",
        "###Para gerar inteiros aleatórios, importe from random import * e use a função randint()"
      ],
      "metadata": {
        "id": "ufzgetMJWdrp"
      },
      "execution_count": null,
      "outputs": []
    },
    {
      "cell_type": "markdown",
      "source": [
        "Dia 13/01/2023"
      ],
      "metadata": {
        "id": "HZgBYXfhvVre"
      }
    },
    {
      "cell_type": "code",
      "source": [
        "#Cria uma lista com números de 1 a 15\n",
        "numeros = []\n",
        "for num in range(5):\n",
        "  numeros.append(num)\n",
        "\n",
        "numeros"
      ],
      "metadata": {
        "id": "ucl2DxLKvZHr"
      },
      "execution_count": null,
      "outputs": []
    },
    {
      "cell_type": "code",
      "source": [
        "#Para usar a biblioteca random tem que importar\n",
        "import random\n",
        "\n",
        "#Uma lista que ela pode colocar uma quantidade aleatória entre 0 e 50\n",
        "nums2 = []\n",
        "for num in range(random.randrange(0, 50)):\n",
        "  nums2.append(num)\n",
        "\n",
        "nums2"
      ],
      "metadata": {
        "id": "cCZUxFRywVFa"
      },
      "execution_count": null,
      "outputs": []
    },
    {
      "cell_type": "code",
      "source": [
        "#Descobrir se um número é par\n",
        "\n",
        "a = int(input('Digite um número: '))\n",
        "\n",
        "if a % 2 == 0:\n",
        "  print('{} é par.'.format(a))\n",
        "else:\n",
        "  print('{} é impar.'.format(a))"
      ],
      "metadata": {
        "id": "vRJzJxZz0sXO"
      },
      "execution_count": null,
      "outputs": []
    },
    {
      "cell_type": "code",
      "source": [
        "#Descobrir se um número é impar ou par em um range de 0 a 50\n",
        "\n",
        "numpares = []\n",
        "\n",
        "for num in range(0, 51):\n",
        "  if(num % 2 ==0):\n",
        "    numpares.append(num)\n",
        "\n",
        "numpares"
      ],
      "metadata": {
        "id": "Nmbfzf3y1zYf"
      },
      "execution_count": null,
      "outputs": []
    },
    {
      "cell_type": "code",
      "source": [
        "#Retone a soma dos números de 1 a 100\n",
        "soma = 0\n",
        "\n",
        "for n in range(101):\n",
        "  soma = soma+n\n",
        "\n",
        "soma"
      ],
      "metadata": {
        "id": "uAvtZNRc3k2t"
      },
      "execution_count": null,
      "outputs": []
    },
    {
      "cell_type": "code",
      "source": [
        "cont = 0\n",
        "while (cont < 10):\n",
        "  print(cont +1)\n",
        "  cont+=1"
      ],
      "metadata": {
        "id": "6AE068L29F5j"
      },
      "execution_count": null,
      "outputs": []
    }
  ]
}