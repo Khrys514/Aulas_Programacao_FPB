{
  "nbformat": 4,
  "nbformat_minor": 0,
  "metadata": {
    "colab": {
      "provenance": [],
      "authorship_tag": "ABX9TyPo1QNbnFQOxWI0xMk9BuQB",
      "include_colab_link": true
    },
    "kernelspec": {
      "name": "python3",
      "display_name": "Python 3"
    },
    "language_info": {
      "name": "python"
    }
  },
  "cells": [
    {
      "cell_type": "markdown",
      "metadata": {
        "id": "view-in-github",
        "colab_type": "text"
      },
      "source": [
        "<a href=\"https://colab.research.google.com/github/Khrys514/Aulas_Programacao_FPB/blob/main/Aula_09.ipynb\" target=\"_parent\"><img src=\"https://colab.research.google.com/assets/colab-badge.svg\" alt=\"Open In Colab\"/></a>"
      ]
    },
    {
      "cell_type": "code",
      "execution_count": null,
      "metadata": {
        "id": "IJrQ8Ipo1Ua-"
      },
      "outputs": [],
      "source": [
        "nomes = ['Zé', 'Tião', 'Joaquim']\n",
        "nomes.append('Júlia')\n",
        "\n",
        "#Varios valores\n",
        "outrosNomes = ['Ana', 'Zelda', 'Link']\n",
        "nomes.extend(outrosNomes)\n",
        "\n",
        "nomes"
      ]
    },
    {
      "cell_type": "markdown",
      "source": [
        "# Remoção de Elementos de uma Lista\n",
        "\n",
        "Para remover remove() ou pop()\n",
        "\n",
        "*   Item da lista\n",
        "*   Item da lista\n",
        "\n",
        "\n",
        "remove (  )- Remove o Primeiro Elemento\n",
        "\n",
        "---\n",
        "\n",
        "pop (  ) - Remove o Ultimo Elemento"
      ],
      "metadata": {
        "id": "WgiZZ1sb9dh-"
      }
    },
    {
      "cell_type": "code",
      "source": [
        "#Crie uma Lista de números.\n",
        "numeros = [ 2, 8, 7, 6, 2, 4]\n",
        "#Remova o primeiro elemento da lista\n",
        "numeros.remove(numeros[0])\n",
        "#Remova o ultimo elemento da lista\n",
        "numeros.pop()\n",
        "\n",
        "numeros"
      ],
      "metadata": {
        "colab": {
          "base_uri": "https://localhost:8080/"
        },
        "id": "L6GGj_yn-FpP",
        "outputId": "3eca149f-fd2c-42bf-f6c5-521b9a047c16"
      },
      "execution_count": 3,
      "outputs": [
        {
          "output_type": "execute_result",
          "data": {
            "text/plain": [
              "[8, 7, 6, 2]"
            ]
          },
          "metadata": {},
          "execution_count": 3
        }
      ]
    }
  ]
}