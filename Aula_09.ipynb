{
  "nbformat": 4,
  "nbformat_minor": 0,
  "metadata": {
    "colab": {
      "provenance": [],
      "authorship_tag": "ABX9TyOibVtbbcvaebEfymL3D1of",
      "include_colab_link": true
    },
    "kernelspec": {
      "name": "python3",
      "display_name": "Python 3"
    },
    "language_info": {
      "name": "python"
    }
  },
  "cells": [
    {
      "cell_type": "markdown",
      "metadata": {
        "id": "view-in-github",
        "colab_type": "text"
      },
      "source": [
        "<a href=\"https://colab.research.google.com/github/Khrys514/Aulas_Programacao_FPB/blob/main/Aula_09.ipynb\" target=\"_parent\"><img src=\"https://colab.research.google.com/assets/colab-badge.svg\" alt=\"Open In Colab\"/></a>"
      ]
    },
    {
      "cell_type": "code",
      "execution_count": null,
      "metadata": {
        "id": "IJrQ8Ipo1Ua-"
      },
      "outputs": [],
      "source": [
        "nomes = ['Zé', 'Tião', 'Joaquim']\n",
        "nomes.append('Júlia')\n",
        "\n",
        "#Varios valores\n",
        "outrosNomes = ['Ana', 'Zelda', 'Link']\n",
        "nomes.extend(outrosNomes)\n",
        "\n",
        "nomes"
      ]
    },
    {
      "cell_type": "markdown",
      "source": [
        "# Remoção de Elementos de uma Lista\n",
        "\n",
        "Para remover remove() ou pop()\n",
        "\n",
        "*   Item da lista\n",
        "*   Item da lista\n",
        "\n",
        "\n",
        "remove (  )- Remove o Primeiro Elemento\n",
        "\n",
        "---\n",
        "\n",
        "pop (  ) - Remove o Ultimo Elemento"
      ],
      "metadata": {
        "id": "WgiZZ1sb9dh-"
      }
    },
    {
      "cell_type": "code",
      "source": [
        "#Crie uma Lista de números.\n",
        "numeros = [ 2, 8, 7, 6, 2, 4]\n",
        "#Remova o primeiro elemento da lista\n",
        "numeros.remove(numeros[0])\n",
        "#Remova o ultimo elemento da lista\n",
        "numeros.pop()\n",
        "\n",
        "numeros"
      ],
      "metadata": {
        "id": "L6GGj_yn-FpP"
      },
      "execution_count": null,
      "outputs": []
    },
    {
      "cell_type": "code",
      "source": [
        "#Crie uma lista de notas, e exiba-a da menor para o maior\n",
        "\n",
        "notas =[2, 10, 9 ,4, 7, 3, 8]\n",
        "nomes = ['Josimar', 'Vilar', 'Galvanne', 'Grazziane']\n",
        "notas.sort()\n",
        "\n",
        "#nomes.sort(reverse=True)\n",
        "\n",
        "#Crie uma lista de nomes de frutas e ordene-a em ordem descrecente"
      ],
      "metadata": {
        "id": "QOf2W0Sx_-4t"
      },
      "execution_count": null,
      "outputs": []
    },
    {
      "cell_type": "markdown",
      "source": [
        "* Função `map()` serve para aplicar uma função a cada elemento\n",
        "dispensado o uso de um loop (for ou while)\n",
        "\n",
        " `*map`(funcao, sequencia)\n",
        "\n",
        "* Função filter() serve para filtrar elementos de uma sequência.\n"
      ],
      "metadata": {
        "id": "uRvGio4dBQzL"
      }
    },
    {
      "cell_type": "code",
      "source": [
        "#Exemplo de função map - cria uma nova lista com o dobro\n",
        "numeros = [2, 4, 6, 3]\n",
        "nova_lista = list(map(lambda x :x*2, numeros))\n",
        "nova_lista"
      ],
      "metadata": {
        "id": "8Ectk9zICbVy"
      },
      "execution_count": null,
      "outputs": []
    },
    {
      "cell_type": "code",
      "source": [
        "#Pegar cada número da lista acima e dividir por 3\n",
        "numdiv3 = list(map(lambda x : x/3, numeros))\n",
        "numdiv3"
      ],
      "metadata": {
        "id": "40g1eNvUDH5Y"
      },
      "execution_count": null,
      "outputs": []
    },
    {
      "cell_type": "code",
      "source": [
        "#Pega os números da numeros e soma por 2\n",
        "numsom2 = list(map(lambda n : n+2, numeros))\n",
        "numsom2"
      ],
      "metadata": {
        "id": "Vr1InJlIECAP"
      },
      "execution_count": null,
      "outputs": []
    },
    {
      "cell_type": "code",
      "source": [
        "#Exemplo função filter - a partir de uma lista de nomes e que separe pessoas que tem o nome cujo tamanho é maior do que 5.\n",
        "\n",
        "nomes = ['Ana', 'José', 'Sebatião', 'Angélica', 'Leonardo']\n",
        "\n",
        "new_list = list(filter(lambda x : len(x)>5, nomes))\n",
        "new_list"
      ],
      "metadata": {
        "colab": {
          "base_uri": "https://localhost:8080/"
        },
        "id": "QKYhHXltE2z-",
        "outputId": "dacda9eb-d9c7-4170-ff7a-1e3c58163e29"
      },
      "execution_count": 18,
      "outputs": [
        {
          "output_type": "execute_result",
          "data": {
            "text/plain": [
              "['Sebatião', 'Angélica', 'Leonardo']"
            ]
          },
          "metadata": {},
          "execution_count": 18
        }
      ]
    },
    {
      "cell_type": "code",
      "source": [
        "#Crie uma lista de números que imprime somentes notas ácima de 6.\n",
        "\n",
        "notas = [7, 6, 7, 10, 6, 4, 3, 15, 7, 9]\n",
        "\n",
        "novalista = list(filter(lambda n : n > 6, notas))\n",
        "novalista"
      ],
      "metadata": {
        "colab": {
          "base_uri": "https://localhost:8080/"
        },
        "id": "oGA8OVEwF74i",
        "outputId": "7869ac3b-97c3-43e5-be80-f3841e9ad798"
      },
      "execution_count": 20,
      "outputs": [
        {
          "output_type": "execute_result",
          "data": {
            "text/plain": [
              "[7, 7, 10, 15, 7, 9]"
            ]
          },
          "metadata": {},
          "execution_count": 20
        }
      ]
    }
  ]
}