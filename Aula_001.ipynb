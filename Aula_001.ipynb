{
  "nbformat": 4,
  "nbformat_minor": 0,
  "metadata": {
    "colab": {
      "provenance": [],
      "authorship_tag": "ABX9TyPw7dzHW1lrfa2k3GJybkLv",
      "include_colab_link": true
    },
    "kernelspec": {
      "name": "python3",
      "display_name": "Python 3"
    },
    "language_info": {
      "name": "python"
    }
  },
  "cells": [
    {
      "cell_type": "markdown",
      "metadata": {
        "id": "view-in-github",
        "colab_type": "text"
      },
      "source": [
        "<a href=\"https://colab.research.google.com/github/Khrys514/Aulas_Programacao_FPB/blob/main/Aula_001.ipynb\" target=\"_parent\"><img src=\"https://colab.research.google.com/assets/colab-badge.svg\" alt=\"Open In Colab\"/></a>"
      ]
    },
    {
      "cell_type": "code",
      "execution_count": 2,
      "metadata": {
        "colab": {
          "base_uri": "https://localhost:8080/"
        },
        "id": "sntUJPyVtp1m",
        "outputId": "96431653-104f-485a-ace1-4b25b314b232"
      },
      "outputs": [
        {
          "output_type": "stream",
          "name": "stdout",
          "text": [
            "Escreva o que você quiser!\n"
          ]
        }
      ],
      "source": [
        "print(\"Escreva o que você quiser!\")"
      ]
    },
    {
      "cell_type": "code",
      "source": [
        "#Variável_Nome\n",
        "nome = \"Christian Moises Monteiro do Nascimento\"\n",
        "print(nome)"
      ],
      "metadata": {
        "colab": {
          "base_uri": "https://localhost:8080/"
        },
        "id": "2GHMsawVwN-J",
        "outputId": "c8bf4e15-3101-40dd-cbca-cb5b4abef6fc"
      },
      "execution_count": 6,
      "outputs": [
        {
          "output_type": "stream",
          "name": "stdout",
          "text": [
            "Christian Moises Monteiro do Nascimento\n"
          ]
        }
      ]
    },
    {
      "cell_type": "code",
      "source": [
        "#Operações com Variáveis\n",
        "a = 9754154\n",
        "b = 9754153\n",
        "print (a-b)\n",
        "soma = a + b\n",
        "sub = a - b\n",
        "divi = a / b\n",
        "multi = a * b\n",
        "print(soma)\n",
        "print(sub)\n",
        "print(divi)\n",
        "print(multi)"
      ],
      "metadata": {
        "colab": {
          "base_uri": "https://localhost:8080/"
        },
        "id": "lPy_3Idow2VL",
        "outputId": "9c901f3c-421e-479b-d8ef-86f5037e27a1"
      },
      "execution_count": 10,
      "outputs": [
        {
          "output_type": "stream",
          "name": "stdout",
          "text": [
            "1\n",
            "19508307\n",
            "1\n",
            "1.0000001025204341\n",
            "95143510501562\n"
          ]
        }
      ]
    },
    {
      "cell_type": "code",
      "source": [
        "#Dobro\n",
        "v1 = 5\n",
        "print(v1 * 2)"
      ],
      "metadata": {
        "colab": {
          "base_uri": "https://localhost:8080/"
        },
        "id": "ndmcNv4IyXRF",
        "outputId": "8b37165d-fcd5-4cc6-c289-89afc3655d24"
      },
      "execution_count": 37,
      "outputs": [
        {
          "output_type": "stream",
          "name": "stdout",
          "text": [
            "10\n"
          ]
        }
      ]
    },
    {
      "cell_type": "code",
      "source": [
        "#Média\n",
        "v1 =9.3\n",
        "v2 = 7.5\n",
        "v3 = 5.7\n",
        "media = (v1+v2+v3) / 3\n",
        "print(media)"
      ],
      "metadata": {
        "colab": {
          "base_uri": "https://localhost:8080/"
        },
        "id": "QnMnzDLp1F8l",
        "outputId": "75063d87-bdcb-4189-f5bc-61d8fd982844"
      },
      "execution_count": 36,
      "outputs": [
        {
          "output_type": "stream",
          "name": "stdout",
          "text": [
            "7.5\n"
          ]
        }
      ]
    },
    {
      "cell_type": "code",
      "source": [
        "#Calc Idade\n",
        "anoNascim = 2002\n",
        "print(2023 - 2002)"
      ],
      "metadata": {
        "colab": {
          "base_uri": "https://localhost:8080/"
        },
        "id": "EnOdVIJa197y",
        "outputId": "61c2c3b9-1820-4391-9fe5-16d1e7471a12"
      },
      "execution_count": 38,
      "outputs": [
        {
          "output_type": "stream",
          "name": "stdout",
          "text": [
            "21\n"
          ]
        }
      ]
    },
    {
      "cell_type": "code",
      "source": [
        "#Trabalhando com Inputs\n",
        "nome = input('Escreva o seu nome ')\n",
        "print('Olá Humano '+nome)"
      ],
      "metadata": {
        "colab": {
          "base_uri": "https://localhost:8080/"
        },
        "id": "RE80Gund2VKU",
        "outputId": "1460fff5-a519-424f-faf6-3cc21a7a53d5"
      },
      "execution_count": 43,
      "outputs": [
        {
          "output_type": "stream",
          "name": "stdout",
          "text": [
            "Escreva o seu nome Christian\n",
            "Olá Humano Christian\n"
          ]
        }
      ]
    },
    {
      "cell_type": "code",
      "source": [
        "#Trabalhando com Somar apartir de um Input\n",
        "num1 = int(input(\"Escreva o primeiro número: \"))\n",
        "print('Salvando...')\n",
        "print('Salvo com Sucesso')\n",
        "print(\"Aguarde enquanto Acordamos o matemático para fazer a sua conta...\")\n",
        "print(num1*3)\n"
      ],
      "metadata": {
        "colab": {
          "base_uri": "https://localhost:8080/"
        },
        "id": "J6sg7QDO4d8d",
        "outputId": "6d488e8c-5537-4487-9300-4b1dce0b1061"
      },
      "execution_count": 59,
      "outputs": [
        {
          "output_type": "stream",
          "name": "stdout",
          "text": [
            "Escreva o primeiro número: 841\n",
            "Salvando...\n",
            "Salvo com Sucesso\n",
            "Aguarde enquanto Acordamos o matemático para fazer a sua conta...\n",
            "2523\n"
          ]
        }
      ]
    }
  ]
}